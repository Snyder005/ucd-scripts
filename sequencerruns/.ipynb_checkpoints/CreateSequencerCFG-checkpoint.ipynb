{
 "cells": [
  {
   "cell_type": "code",
   "execution_count": 1,
   "id": "09021041",
   "metadata": {},
   "outputs": [],
   "source": [
    "import numpy as np\n",
    "import time,subprocess,datetime,sys,glob,random\n",
    "from astropy.io import fits\n",
    "\n",
    "date=time.strftime(\"%Y%m%d\")\n",
    "imagedir='/mnt/10TBHDD/data/'+date"
   ]
  },
  {
   "cell_type": "code",
   "execution_count": 2,
   "id": "8497de45",
   "metadata": {},
   "outputs": [],
   "source": [
    "def make_cfg(filename,numspotexp,numlamps,lowspottime,highspottime,lowspotlamp,highspotlamp,darktimes,numbiases,minexposure,maxexposure):\n",
    "    spotexptimes=np.linspace(lowspottime,highspottime,numspotexp)\n",
    "    lampintensities=np.linspace(lowspotlamp,highspotlamp,numlamps)\n",
    "    #darktimes=np.linspace(timedarkslow,timedarkshigh,numberofdarkexptimes)\n",
    "    numberofdarkexptimes=len(darktimes)\n",
    "    \n",
    "    \n",
    "    cfgfile='''#UCD EO configuration file\n",
    "# \n",
    "# Acquisition sequences to run\n",
    "[ACQUIRE]\n",
    "bias\n",
    "'''\n",
    "    for k in range(numberofdarkexptimes):\n",
    "        cfgfile=cfgfile+'dark'+'{0:.0f}'.format(darktimes[k])+'\\n'\n",
    "    for i in range(numspotexp):\n",
    "        for j in range(numlamps):\n",
    "            for k in range(numberofdarkexptimes):\n",
    "                if minexposure < spotexptimes[i]*lampintensities[j] < maxexposure:\n",
    "                    cfgfile=cfgfile+\"bias\"+str(i)+\"exp\"+str(j)+\"lamp\"+str(k)+'dark'+\"\\n\"+\"spot\"+str(i)+\"exp\"+str(j)+\"lamp\"+str(k)+'dark'+\"\\n\"+\"dark\"+str(i)+\"exp\"+str(j)+\"lamp\"+str(k)+'dark'+\"\\n\"\n",
    "    cfgfile=cfgfile+'''\n",
    "[DESCRIPTION]\n",
    "Persistence Test for the e2v CCD\n",
    "\n",
    "[BIAS]\n",
    "ACQTYPE=bias\n",
    "LOCATIONS = R21/Reb0        # locations to read\n",
    "COUNT     =  '''+str(numbiases*2)+'''             # number of bias frames\n",
    "EXTRADELAY = 0\n",
    "'''\n",
    "    for k in range(numberofdarkexptimes):\n",
    "        numdarks=int(300/darktimes[k])\n",
    "        cfgfile=cfgfile+'''\n",
    "[DARK'''+'{0:.0f}'.format(darktimes[k])+''']\n",
    "ACQTYPE=dark\n",
    "LOCATIONS=R21/Reb0\n",
    "DESCRIPTION=Darks taken before persistence tests.\n",
    "BCOUNT=    0      # number of bias frames per dark image\n",
    "dark= '''+str(darktimes[k])+\"   \"+str(numdarks)+'''   # integration time and image count for dark set\n",
    "\n",
    "'''\n",
    "    for i in range(numspotexp):\n",
    "        for j in range(numlamps):\n",
    "            for k in range(numberofdarkexptimes):\n",
    "                if minexposure < spotexptimes[i]*lampintensities[j] < maxexposure:\n",
    "                    numdarks=int(300/darktimes[k])\n",
    "                    cfgfile=cfgfile+'''[BIAS'''+str(i)+\"EXP\"+str(j)+\"LAMP\"+str(k)+\"DARK\"+''']\n",
    "ACQTYPE=bias\n",
    "LOCATIONS = R21/Reb0        # locations to read\n",
    "COUNT     =  '''+str(numbiases)+'''             # number of bias frames\n",
    "EXTRADELAY = 0\n",
    "\n",
    "[SPOT'''+str(i)+\"EXP\"+str(j)+\"LAMP\"+str(k)+\"DARK\"+''']\n",
    "ACQTYPE=spot\n",
    "LOCATIONS = R21/Reb0        # locations to read\n",
    "BCOUNT    = 0               # number of bias frames per dither set\n",
    "IMCOUNT   = 1              # number of images per dither set\n",
    "FILER     = R\n",
    "MASK      = Spot       # mask name to use\n",
    "\n",
    "expose =    '''+'{0:.2f}'.format(spotexptimes[i])+'''   '''+'{0:.2f}'.format(lampintensities[j])+'''\n",
    "          \n",
    "point =   0.0   0.0   0.0   # x, y, and z stage positions for dither set\n",
    "\n",
    "[DARK'''+str(i)+\"EXP\"+str(j)+\"LAMP\"+str(k)+\"DARK\"+''']\n",
    "ACQTYPE=dark\n",
    "LOCATIONS=R21/Reb0\n",
    "DESCRIPTION=Long darks to look for muons.\n",
    "TOGGLELAMP = False\n",
    "BCOUNT=    0      # number of bias frames per dark image\n",
    "dark= '''+str(darktimes[k])+'''   '''+str(numdarks)+'''   # integration time and image count for dark set\n",
    "\n",
    "'''\n",
    "    file = open(filename, 'w')\n",
    "    file.write(cfgfile)       \n",
    "    file.close()\n",
    "    return cfgfile"
   ]
  },
  {
   "cell_type": "code",
   "execution_count": 25,
   "id": "49a683ac",
   "metadata": {},
   "outputs": [
    {
     "data": {
      "text/plain": [
       "'#UCD EO configuration file\\n# \\n# Acquisition sequences to run\\n[ACQUIRE]\\nbias\\ndark15\\nbias0exp0lamp0dark\\nspot0exp0lamp0dark\\ndark0exp0lamp0dark\\nbias1exp0lamp0dark\\nspot1exp0lamp0dark\\ndark1exp0lamp0dark\\nbias2exp0lamp0dark\\nspot2exp0lamp0dark\\ndark2exp0lamp0dark\\nbias3exp0lamp0dark\\nspot3exp0lamp0dark\\ndark3exp0lamp0dark\\nbias4exp0lamp0dark\\nspot4exp0lamp0dark\\ndark4exp0lamp0dark\\nbias5exp0lamp0dark\\nspot5exp0lamp0dark\\ndark5exp0lamp0dark\\nbias6exp0lamp0dark\\nspot6exp0lamp0dark\\ndark6exp0lamp0dark\\nbias7exp0lamp0dark\\nspot7exp0lamp0dark\\ndark7exp0lamp0dark\\nbias8exp0lamp0dark\\nspot8exp0lamp0dark\\ndark8exp0lamp0dark\\nbias9exp0lamp0dark\\nspot9exp0lamp0dark\\ndark9exp0lamp0dark\\nbias10exp0lamp0dark\\nspot10exp0lamp0dark\\ndark10exp0lamp0dark\\nbias11exp0lamp0dark\\nspot11exp0lamp0dark\\ndark11exp0lamp0dark\\nbias12exp0lamp0dark\\nspot12exp0lamp0dark\\ndark12exp0lamp0dark\\nbias13exp0lamp0dark\\nspot13exp0lamp0dark\\ndark13exp0lamp0dark\\nbias14exp0lamp0dark\\nspot14exp0lamp0dark\\ndark14exp0lamp0dark\\nbias15exp0lamp0dark\\nspot15exp0lamp0dark\\ndark15exp0lamp0dark\\nbias16exp0lamp0dark\\nspot16exp0lamp0dark\\ndark16exp0lamp0dark\\nbias17exp0lamp0dark\\nspot17exp0lamp0dark\\ndark17exp0lamp0dark\\nbias18exp0lamp0dark\\nspot18exp0lamp0dark\\ndark18exp0lamp0dark\\nbias19exp0lamp0dark\\nspot19exp0lamp0dark\\ndark19exp0lamp0dark\\n\\n[DESCRIPTION]\\nPersistence Test for the e2v CCD\\n\\n[BIAS]\\nACQTYPE=bias\\nLOCATIONS = R21/Reb0        # locations to read\\nCOUNT     =  20             # number of bias frames\\nEXTRADELAY = 0\\n\\n[DARK15]\\nACQTYPE=dark\\nLOCATIONS=R21/Reb0\\nDESCRIPTION=Darks taken before persistence tests.\\nBCOUNT=    0      # number of bias frames per dark image\\ndark= 15   20   # integration time and image count for dark set\\n\\n[BIAS0EXP0LAMP0DARK]\\nACQTYPE=bias\\nLOCATIONS = R21/Reb0        # locations to read\\nCOUNT     =  10             # number of bias frames\\nEXTRADELAY = 0\\n\\n[SPOT0EXP0LAMP0DARK]\\nACQTYPE=spot\\nLOCATIONS = R21/Reb0        # locations to read\\nBCOUNT    = 0               # number of bias frames per dither set\\nIMCOUNT   = 1              # number of images per dither set\\nFILER     = R\\nMASK      = Spot       # mask name to use\\n\\nexpose =    15.00   0.30\\n          \\npoint =   0.0   0.0   0.0   # x, y, and z stage positions for dither set\\n\\n[DARK0EXP0LAMP0DARK]\\nACQTYPE=dark\\nLOCATIONS=R21/Reb0\\nDESCRIPTION=Long darks to look for muons.\\nTOGGLELAMP = False\\nBCOUNT=    0      # number of bias frames per dark image\\ndark= 15   20   # integration time and image count for dark set\\n\\n[BIAS1EXP0LAMP0DARK]\\nACQTYPE=bias\\nLOCATIONS = R21/Reb0        # locations to read\\nCOUNT     =  10             # number of bias frames\\nEXTRADELAY = 0\\n\\n[SPOT1EXP0LAMP0DARK]\\nACQTYPE=spot\\nLOCATIONS = R21/Reb0        # locations to read\\nBCOUNT    = 0               # number of bias frames per dither set\\nIMCOUNT   = 1              # number of images per dither set\\nFILER     = R\\nMASK      = Spot       # mask name to use\\n\\nexpose =    15.00   0.30\\n          \\npoint =   0.0   0.0   0.0   # x, y, and z stage positions for dither set\\n\\n[DARK1EXP0LAMP0DARK]\\nACQTYPE=dark\\nLOCATIONS=R21/Reb0\\nDESCRIPTION=Long darks to look for muons.\\nTOGGLELAMP = False\\nBCOUNT=    0      # number of bias frames per dark image\\ndark= 15   20   # integration time and image count for dark set\\n\\n[BIAS2EXP0LAMP0DARK]\\nACQTYPE=bias\\nLOCATIONS = R21/Reb0        # locations to read\\nCOUNT     =  10             # number of bias frames\\nEXTRADELAY = 0\\n\\n[SPOT2EXP0LAMP0DARK]\\nACQTYPE=spot\\nLOCATIONS = R21/Reb0        # locations to read\\nBCOUNT    = 0               # number of bias frames per dither set\\nIMCOUNT   = 1              # number of images per dither set\\nFILER     = R\\nMASK      = Spot       # mask name to use\\n\\nexpose =    15.00   0.30\\n          \\npoint =   0.0   0.0   0.0   # x, y, and z stage positions for dither set\\n\\n[DARK2EXP0LAMP0DARK]\\nACQTYPE=dark\\nLOCATIONS=R21/Reb0\\nDESCRIPTION=Long darks to look for muons.\\nTOGGLELAMP = False\\nBCOUNT=    0      # number of bias frames per dark image\\ndark= 15   20   # integration time and image count for dark set\\n\\n[BIAS3EXP0LAMP0DARK]\\nACQTYPE=bias\\nLOCATIONS = R21/Reb0        # locations to read\\nCOUNT     =  10             # number of bias frames\\nEXTRADELAY = 0\\n\\n[SPOT3EXP0LAMP0DARK]\\nACQTYPE=spot\\nLOCATIONS = R21/Reb0        # locations to read\\nBCOUNT    = 0               # number of bias frames per dither set\\nIMCOUNT   = 1              # number of images per dither set\\nFILER     = R\\nMASK      = Spot       # mask name to use\\n\\nexpose =    15.00   0.30\\n          \\npoint =   0.0   0.0   0.0   # x, y, and z stage positions for dither set\\n\\n[DARK3EXP0LAMP0DARK]\\nACQTYPE=dark\\nLOCATIONS=R21/Reb0\\nDESCRIPTION=Long darks to look for muons.\\nTOGGLELAMP = False\\nBCOUNT=    0      # number of bias frames per dark image\\ndark= 15   20   # integration time and image count for dark set\\n\\n[BIAS4EXP0LAMP0DARK]\\nACQTYPE=bias\\nLOCATIONS = R21/Reb0        # locations to read\\nCOUNT     =  10             # number of bias frames\\nEXTRADELAY = 0\\n\\n[SPOT4EXP0LAMP0DARK]\\nACQTYPE=spot\\nLOCATIONS = R21/Reb0        # locations to read\\nBCOUNT    = 0               # number of bias frames per dither set\\nIMCOUNT   = 1              # number of images per dither set\\nFILER     = R\\nMASK      = Spot       # mask name to use\\n\\nexpose =    15.00   0.30\\n          \\npoint =   0.0   0.0   0.0   # x, y, and z stage positions for dither set\\n\\n[DARK4EXP0LAMP0DARK]\\nACQTYPE=dark\\nLOCATIONS=R21/Reb0\\nDESCRIPTION=Long darks to look for muons.\\nTOGGLELAMP = False\\nBCOUNT=    0      # number of bias frames per dark image\\ndark= 15   20   # integration time and image count for dark set\\n\\n[BIAS5EXP0LAMP0DARK]\\nACQTYPE=bias\\nLOCATIONS = R21/Reb0        # locations to read\\nCOUNT     =  10             # number of bias frames\\nEXTRADELAY = 0\\n\\n[SPOT5EXP0LAMP0DARK]\\nACQTYPE=spot\\nLOCATIONS = R21/Reb0        # locations to read\\nBCOUNT    = 0               # number of bias frames per dither set\\nIMCOUNT   = 1              # number of images per dither set\\nFILER     = R\\nMASK      = Spot       # mask name to use\\n\\nexpose =    15.00   0.30\\n          \\npoint =   0.0   0.0   0.0   # x, y, and z stage positions for dither set\\n\\n[DARK5EXP0LAMP0DARK]\\nACQTYPE=dark\\nLOCATIONS=R21/Reb0\\nDESCRIPTION=Long darks to look for muons.\\nTOGGLELAMP = False\\nBCOUNT=    0      # number of bias frames per dark image\\ndark= 15   20   # integration time and image count for dark set\\n\\n[BIAS6EXP0LAMP0DARK]\\nACQTYPE=bias\\nLOCATIONS = R21/Reb0        # locations to read\\nCOUNT     =  10             # number of bias frames\\nEXTRADELAY = 0\\n\\n[SPOT6EXP0LAMP0DARK]\\nACQTYPE=spot\\nLOCATIONS = R21/Reb0        # locations to read\\nBCOUNT    = 0               # number of bias frames per dither set\\nIMCOUNT   = 1              # number of images per dither set\\nFILER     = R\\nMASK      = Spot       # mask name to use\\n\\nexpose =    15.00   0.30\\n          \\npoint =   0.0   0.0   0.0   # x, y, and z stage positions for dither set\\n\\n[DARK6EXP0LAMP0DARK]\\nACQTYPE=dark\\nLOCATIONS=R21/Reb0\\nDESCRIPTION=Long darks to look for muons.\\nTOGGLELAMP = False\\nBCOUNT=    0      # number of bias frames per dark image\\ndark= 15   20   # integration time and image count for dark set\\n\\n[BIAS7EXP0LAMP0DARK]\\nACQTYPE=bias\\nLOCATIONS = R21/Reb0        # locations to read\\nCOUNT     =  10             # number of bias frames\\nEXTRADELAY = 0\\n\\n[SPOT7EXP0LAMP0DARK]\\nACQTYPE=spot\\nLOCATIONS = R21/Reb0        # locations to read\\nBCOUNT    = 0               # number of bias frames per dither set\\nIMCOUNT   = 1              # number of images per dither set\\nFILER     = R\\nMASK      = Spot       # mask name to use\\n\\nexpose =    15.00   0.30\\n          \\npoint =   0.0   0.0   0.0   # x, y, and z stage positions for dither set\\n\\n[DARK7EXP0LAMP0DARK]\\nACQTYPE=dark\\nLOCATIONS=R21/Reb0\\nDESCRIPTION=Long darks to look for muons.\\nTOGGLELAMP = False\\nBCOUNT=    0      # number of bias frames per dark image\\ndark= 15   20   # integration time and image count for dark set\\n\\n[BIAS8EXP0LAMP0DARK]\\nACQTYPE=bias\\nLOCATIONS = R21/Reb0        # locations to read\\nCOUNT     =  10             # number of bias frames\\nEXTRADELAY = 0\\n\\n[SPOT8EXP0LAMP0DARK]\\nACQTYPE=spot\\nLOCATIONS = R21/Reb0        # locations to read\\nBCOUNT    = 0               # number of bias frames per dither set\\nIMCOUNT   = 1              # number of images per dither set\\nFILER     = R\\nMASK      = Spot       # mask name to use\\n\\nexpose =    15.00   0.30\\n          \\npoint =   0.0   0.0   0.0   # x, y, and z stage positions for dither set\\n\\n[DARK8EXP0LAMP0DARK]\\nACQTYPE=dark\\nLOCATIONS=R21/Reb0\\nDESCRIPTION=Long darks to look for muons.\\nTOGGLELAMP = False\\nBCOUNT=    0      # number of bias frames per dark image\\ndark= 15   20   # integration time and image count for dark set\\n\\n[BIAS9EXP0LAMP0DARK]\\nACQTYPE=bias\\nLOCATIONS = R21/Reb0        # locations to read\\nCOUNT     =  10             # number of bias frames\\nEXTRADELAY = 0\\n\\n[SPOT9EXP0LAMP0DARK]\\nACQTYPE=spot\\nLOCATIONS = R21/Reb0        # locations to read\\nBCOUNT    = 0               # number of bias frames per dither set\\nIMCOUNT   = 1              # number of images per dither set\\nFILER     = R\\nMASK      = Spot       # mask name to use\\n\\nexpose =    15.00   0.30\\n          \\npoint =   0.0   0.0   0.0   # x, y, and z stage positions for dither set\\n\\n[DARK9EXP0LAMP0DARK]\\nACQTYPE=dark\\nLOCATIONS=R21/Reb0\\nDESCRIPTION=Long darks to look for muons.\\nTOGGLELAMP = False\\nBCOUNT=    0      # number of bias frames per dark image\\ndark= 15   20   # integration time and image count for dark set\\n\\n[BIAS10EXP0LAMP0DARK]\\nACQTYPE=bias\\nLOCATIONS = R21/Reb0        # locations to read\\nCOUNT     =  10             # number of bias frames\\nEXTRADELAY = 0\\n\\n[SPOT10EXP0LAMP0DARK]\\nACQTYPE=spot\\nLOCATIONS = R21/Reb0        # locations to read\\nBCOUNT    = 0               # number of bias frames per dither set\\nIMCOUNT   = 1              # number of images per dither set\\nFILER     = R\\nMASK      = Spot       # mask name to use\\n\\nexpose =    15.00   0.30\\n          \\npoint =   0.0   0.0   0.0   # x, y, and z stage positions for dither set\\n\\n[DARK10EXP0LAMP0DARK]\\nACQTYPE=dark\\nLOCATIONS=R21/Reb0\\nDESCRIPTION=Long darks to look for muons.\\nTOGGLELAMP = False\\nBCOUNT=    0      # number of bias frames per dark image\\ndark= 15   20   # integration time and image count for dark set\\n\\n[BIAS11EXP0LAMP0DARK]\\nACQTYPE=bias\\nLOCATIONS = R21/Reb0        # locations to read\\nCOUNT     =  10             # number of bias frames\\nEXTRADELAY = 0\\n\\n[SPOT11EXP0LAMP0DARK]\\nACQTYPE=spot\\nLOCATIONS = R21/Reb0        # locations to read\\nBCOUNT    = 0               # number of bias frames per dither set\\nIMCOUNT   = 1              # number of images per dither set\\nFILER     = R\\nMASK      = Spot       # mask name to use\\n\\nexpose =    15.00   0.30\\n          \\npoint =   0.0   0.0   0.0   # x, y, and z stage positions for dither set\\n\\n[DARK11EXP0LAMP0DARK]\\nACQTYPE=dark\\nLOCATIONS=R21/Reb0\\nDESCRIPTION=Long darks to look for muons.\\nTOGGLELAMP = False\\nBCOUNT=    0      # number of bias frames per dark image\\ndark= 15   20   # integration time and image count for dark set\\n\\n[BIAS12EXP0LAMP0DARK]\\nACQTYPE=bias\\nLOCATIONS = R21/Reb0        # locations to read\\nCOUNT     =  10             # number of bias frames\\nEXTRADELAY = 0\\n\\n[SPOT12EXP0LAMP0DARK]\\nACQTYPE=spot\\nLOCATIONS = R21/Reb0        # locations to read\\nBCOUNT    = 0               # number of bias frames per dither set\\nIMCOUNT   = 1              # number of images per dither set\\nFILER     = R\\nMASK      = Spot       # mask name to use\\n\\nexpose =    15.00   0.30\\n          \\npoint =   0.0   0.0   0.0   # x, y, and z stage positions for dither set\\n\\n[DARK12EXP0LAMP0DARK]\\nACQTYPE=dark\\nLOCATIONS=R21/Reb0\\nDESCRIPTION=Long darks to look for muons.\\nTOGGLELAMP = False\\nBCOUNT=    0      # number of bias frames per dark image\\ndark= 15   20   # integration time and image count for dark set\\n\\n[BIAS13EXP0LAMP0DARK]\\nACQTYPE=bias\\nLOCATIONS = R21/Reb0        # locations to read\\nCOUNT     =  10             # number of bias frames\\nEXTRADELAY = 0\\n\\n[SPOT13EXP0LAMP0DARK]\\nACQTYPE=spot\\nLOCATIONS = R21/Reb0        # locations to read\\nBCOUNT    = 0               # number of bias frames per dither set\\nIMCOUNT   = 1              # number of images per dither set\\nFILER     = R\\nMASK      = Spot       # mask name to use\\n\\nexpose =    15.00   0.30\\n          \\npoint =   0.0   0.0   0.0   # x, y, and z stage positions for dither set\\n\\n[DARK13EXP0LAMP0DARK]\\nACQTYPE=dark\\nLOCATIONS=R21/Reb0\\nDESCRIPTION=Long darks to look for muons.\\nTOGGLELAMP = False\\nBCOUNT=    0      # number of bias frames per dark image\\ndark= 15   20   # integration time and image count for dark set\\n\\n[BIAS14EXP0LAMP0DARK]\\nACQTYPE=bias\\nLOCATIONS = R21/Reb0        # locations to read\\nCOUNT     =  10             # number of bias frames\\nEXTRADELAY = 0\\n\\n[SPOT14EXP0LAMP0DARK]\\nACQTYPE=spot\\nLOCATIONS = R21/Reb0        # locations to read\\nBCOUNT    = 0               # number of bias frames per dither set\\nIMCOUNT   = 1              # number of images per dither set\\nFILER     = R\\nMASK      = Spot       # mask name to use\\n\\nexpose =    15.00   0.30\\n          \\npoint =   0.0   0.0   0.0   # x, y, and z stage positions for dither set\\n\\n[DARK14EXP0LAMP0DARK]\\nACQTYPE=dark\\nLOCATIONS=R21/Reb0\\nDESCRIPTION=Long darks to look for muons.\\nTOGGLELAMP = False\\nBCOUNT=    0      # number of bias frames per dark image\\ndark= 15   20   # integration time and image count for dark set\\n\\n[BIAS15EXP0LAMP0DARK]\\nACQTYPE=bias\\nLOCATIONS = R21/Reb0        # locations to read\\nCOUNT     =  10             # number of bias frames\\nEXTRADELAY = 0\\n\\n[SPOT15EXP0LAMP0DARK]\\nACQTYPE=spot\\nLOCATIONS = R21/Reb0        # locations to read\\nBCOUNT    = 0               # number of bias frames per dither set\\nIMCOUNT   = 1              # number of images per dither set\\nFILER     = R\\nMASK      = Spot       # mask name to use\\n\\nexpose =    15.00   0.30\\n          \\npoint =   0.0   0.0   0.0   # x, y, and z stage positions for dither set\\n\\n[DARK15EXP0LAMP0DARK]\\nACQTYPE=dark\\nLOCATIONS=R21/Reb0\\nDESCRIPTION=Long darks to look for muons.\\nTOGGLELAMP = False\\nBCOUNT=    0      # number of bias frames per dark image\\ndark= 15   20   # integration time and image count for dark set\\n\\n[BIAS16EXP0LAMP0DARK]\\nACQTYPE=bias\\nLOCATIONS = R21/Reb0        # locations to read\\nCOUNT     =  10             # number of bias frames\\nEXTRADELAY = 0\\n\\n[SPOT16EXP0LAMP0DARK]\\nACQTYPE=spot\\nLOCATIONS = R21/Reb0        # locations to read\\nBCOUNT    = 0               # number of bias frames per dither set\\nIMCOUNT   = 1              # number of images per dither set\\nFILER     = R\\nMASK      = Spot       # mask name to use\\n\\nexpose =    15.00   0.30\\n          \\npoint =   0.0   0.0   0.0   # x, y, and z stage positions for dither set\\n\\n[DARK16EXP0LAMP0DARK]\\nACQTYPE=dark\\nLOCATIONS=R21/Reb0\\nDESCRIPTION=Long darks to look for muons.\\nTOGGLELAMP = False\\nBCOUNT=    0      # number of bias frames per dark image\\ndark= 15   20   # integration time and image count for dark set\\n\\n[BIAS17EXP0LAMP0DARK]\\nACQTYPE=bias\\nLOCATIONS = R21/Reb0        # locations to read\\nCOUNT     =  10             # number of bias frames\\nEXTRADELAY = 0\\n\\n[SPOT17EXP0LAMP0DARK]\\nACQTYPE=spot\\nLOCATIONS = R21/Reb0        # locations to read\\nBCOUNT    = 0               # number of bias frames per dither set\\nIMCOUNT   = 1              # number of images per dither set\\nFILER     = R\\nMASK      = Spot       # mask name to use\\n\\nexpose =    15.00   0.30\\n          \\npoint =   0.0   0.0   0.0   # x, y, and z stage positions for dither set\\n\\n[DARK17EXP0LAMP0DARK]\\nACQTYPE=dark\\nLOCATIONS=R21/Reb0\\nDESCRIPTION=Long darks to look for muons.\\nTOGGLELAMP = False\\nBCOUNT=    0      # number of bias frames per dark image\\ndark= 15   20   # integration time and image count for dark set\\n\\n[BIAS18EXP0LAMP0DARK]\\nACQTYPE=bias\\nLOCATIONS = R21/Reb0        # locations to read\\nCOUNT     =  10             # number of bias frames\\nEXTRADELAY = 0\\n\\n[SPOT18EXP0LAMP0DARK]\\nACQTYPE=spot\\nLOCATIONS = R21/Reb0        # locations to read\\nBCOUNT    = 0               # number of bias frames per dither set\\nIMCOUNT   = 1              # number of images per dither set\\nFILER     = R\\nMASK      = Spot       # mask name to use\\n\\nexpose =    15.00   0.30\\n          \\npoint =   0.0   0.0   0.0   # x, y, and z stage positions for dither set\\n\\n[DARK18EXP0LAMP0DARK]\\nACQTYPE=dark\\nLOCATIONS=R21/Reb0\\nDESCRIPTION=Long darks to look for muons.\\nTOGGLELAMP = False\\nBCOUNT=    0      # number of bias frames per dark image\\ndark= 15   20   # integration time and image count for dark set\\n\\n[BIAS19EXP0LAMP0DARK]\\nACQTYPE=bias\\nLOCATIONS = R21/Reb0        # locations to read\\nCOUNT     =  10             # number of bias frames\\nEXTRADELAY = 0\\n\\n[SPOT19EXP0LAMP0DARK]\\nACQTYPE=spot\\nLOCATIONS = R21/Reb0        # locations to read\\nBCOUNT    = 0               # number of bias frames per dither set\\nIMCOUNT   = 1              # number of images per dither set\\nFILER     = R\\nMASK      = Spot       # mask name to use\\n\\nexpose =    15.00   0.30\\n          \\npoint =   0.0   0.0   0.0   # x, y, and z stage positions for dither set\\n\\n[DARK19EXP0LAMP0DARK]\\nACQTYPE=dark\\nLOCATIONS=R21/Reb0\\nDESCRIPTION=Long darks to look for muons.\\nTOGGLELAMP = False\\nBCOUNT=    0      # number of bias frames per dark image\\ndark= 15   20   # integration time and image count for dark set\\n\\n'"
      ]
     },
     "execution_count": 25,
     "metadata": {},
     "output_type": "execute_result"
    }
   ],
   "source": [
    "#make_cfg(\"percistenceVSexposuretime.cfg\",10,10,1,100,0.3,100,20,5,10,15,128*16)\n",
    "#make_cfg(\"persistenceVSdarkexptime.cfg\",1,1,100,100,11.38,11.38,numdarks,numberofdarkexptimes,timedarkslow,timedarkshigh,numbiases,minexposure,maxexposure):\n",
    "darktime=[15]\n",
    "make_cfg(\"50_4xsaturation.cfg\",50,1,15.0,15.0,0.30,0.30,darktime,10,14*.30,16*.33)\n"
   ]
  },
  {
   "cell_type": "code",
   "execution_count": 9,
   "id": "26589c43",
   "metadata": {},
   "outputs": [
    {
     "data": {
      "text/plain": [
       "'10'"
      ]
     },
     "execution_count": 9,
     "metadata": {},
     "output_type": "execute_result"
    }
   ],
   "source": [
    "'{0:.0f}'.format(np.linspace(0,10,10)[9])"
   ]
  },
  {
   "cell_type": "code",
   "execution_count": 24,
   "id": "25f43bd6",
   "metadata": {},
   "outputs": [
    {
     "data": {
      "text/plain": [
       "'0.30'"
      ]
     },
     "execution_count": 24,
     "metadata": {},
     "output_type": "execute_result"
    }
   ],
   "source": [
    "'{0:.2f}'.format(np.linspace(.3,.33,1)[0])"
   ]
  },
  {
   "cell_type": "code",
   "execution_count": 38,
   "id": "eb734615",
   "metadata": {},
   "outputs": [],
   "source": [
    "make_cfg(\"text.cfg\",2,1,15.0,highspottime,lowspotlamp,highspotlamp,darktimes,numbiases,minexposure,maxexposure)"
   ]
  },
  {
   "cell_type": "code",
   "execution_count": 26,
   "id": "45ec6b17",
   "metadata": {},
   "outputs": [
    {
     "data": {
      "text/plain": [
       "False"
      ]
     },
     "execution_count": 26,
     "metadata": {},
     "output_type": "execute_result"
    }
   ],
   "source": [
    "1<5<4"
   ]
  },
  {
   "cell_type": "code",
   "execution_count": 27,
   "id": "bcf33cfa",
   "metadata": {},
   "outputs": [
    {
     "data": {
      "text/plain": [
       "False"
      ]
     },
     "execution_count": 27,
     "metadata": {},
     "output_type": "execute_result"
    }
   ],
   "source": [
    "1<-1<4"
   ]
  },
  {
   "cell_type": "code",
   "execution_count": 30,
   "id": "ad4b107f",
   "metadata": {},
   "outputs": [
    {
     "data": {
      "text/plain": [
       "2048"
      ]
     },
     "execution_count": 30,
     "metadata": {},
     "output_type": "execute_result"
    }
   ],
   "source": [
    "128*16"
   ]
  },
  {
   "cell_type": "code",
   "execution_count": null,
   "id": "abbc18aa",
   "metadata": {},
   "outputs": [],
   "source": []
  }
 ],
 "metadata": {
  "kernelspec": {
   "display_name": "Python 3 (ipykernel)",
   "language": "python",
   "name": "python3"
  },
  "language_info": {
   "codemirror_mode": {
    "name": "ipython",
    "version": 3
   },
   "file_extension": ".py",
   "mimetype": "text/x-python",
   "name": "python",
   "nbconvert_exporter": "python",
   "pygments_lexer": "ipython3",
   "version": "3.8.10"
  }
 },
 "nbformat": 4,
 "nbformat_minor": 5
}
