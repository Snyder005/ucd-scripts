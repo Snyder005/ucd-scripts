{
 "cells": [
  {
   "cell_type": "code",
   "execution_count": 6,
   "id": "b3661f05",
   "metadata": {},
   "outputs": [],
   "source": [
    "import numpy as np"
   ]
  },
  {
   "cell_type": "code",
   "execution_count": 15,
   "id": "9e6b2a95",
   "metadata": {},
   "outputs": [],
   "source": [
    "minexp=1.0 #Value for lowest exposure time\n",
    "minlamp=.3  #lowest lamp value\n",
    "topexp=1 #an exposure then when multiplied by toplamp gives you the max desired adu\n",
    "toplamp=35\n",
    "\n",
    "maxexp=15.0\n",
    "maxlamp=67.9\n",
    "bad1=6.4\n",
    "bad2=12\n",
    "resolution=100"
   ]
  },
  {
   "cell_type": "code",
   "execution_count": 17,
   "id": "5fa6f9e1",
   "metadata": {},
   "outputs": [
    {
     "name": "stdout",
     "output_type": "stream",
     "text": [
      "1.0   0.30,\n",
      "1.0   2.13,\n",
      "1.0   3.95,\n",
      "1.0   5.78,\n",
      "2.0   3.80,\n",
      "2.0   4.72,\n",
      "2.0   5.63,\n",
      "1.0   13.08,\n",
      "1.0   14.91,\n",
      "1.0   16.74,\n",
      "1.0   18.56,\n",
      "1.0   20.39,\n",
      "1.0   22.22,\n",
      "1.0   24.04,\n",
      "1.0   25.87,\n",
      "1.0   27.69,\n",
      "1.0   29.52,\n",
      "1.0   31.35,\n",
      "1.0   33.17,\n",
      "1.0   35.00,\n"
     ]
    }
   ],
   "source": [
    "ints=np.linspace(minlamp*minexp,topexp*toplamp,resolution)\n",
    "exp=minexp\n",
    "for i in ints:\n",
    "    if minlamp<=i/exp<=bad1 or bad2<=i/exp<=maxlamp:\n",
    "        print(str(exp)+\"   \"+str(\"{:.2f}\".format(i/exp))+\",\")\n",
    "    elif bad1<=i/exp<=bad2:\n",
    "        print(str(exp*2)+\"   \"+str(\"{:.2f}\".format(i/(exp*2)))+\",\")\n",
    "    elif i/exp>=maxlamp:\n",
    "        while i/exp>=maxlamp:\n",
    "            exp+=0.5\n",
    "        print(str(exp)+\"   \"+str(\"{:.2f}\".format(i/exp))+\",\")"
   ]
  },
  {
   "cell_type": "code",
   "execution_count": null,
   "id": "3c963189",
   "metadata": {},
   "outputs": [],
   "source": []
  }
 ],
 "metadata": {
  "kernelspec": {
   "display_name": "Python 3 (ipykernel)",
   "language": "python",
   "name": "python3"
  },
  "language_info": {
   "codemirror_mode": {
    "name": "ipython",
    "version": 3
   },
   "file_extension": ".py",
   "mimetype": "text/x-python",
   "name": "python",
   "nbconvert_exporter": "python",
   "pygments_lexer": "ipython3",
   "version": "3.8.10"
  }
 },
 "nbformat": 4,
 "nbformat_minor": 5
}
