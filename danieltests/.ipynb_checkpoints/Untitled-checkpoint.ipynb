{
 "cells": [
  {
   "cell_type": "code",
   "execution_count": 8,
   "id": "d668bc74",
   "metadata": {},
   "outputs": [],
   "source": [
    "from subprocess import check_output"
   ]
  },
  {
   "cell_type": "code",
   "execution_count": 57,
   "id": "4f8e6204",
   "metadata": {},
   "outputs": [],
   "source": [
    "test=check_output([\"store <purgedatastore.txt\"],shell=True)"
   ]
  },
  {
   "cell_type": "code",
   "execution_count": 58,
   "id": "bda47ac2",
   "metadata": {},
   "outputs": [],
   "source": [
    "t=test"
   ]
  },
  {
   "cell_type": "code",
   "execution_count": 59,
   "id": "c169bdc6",
   "metadata": {},
   "outputs": [],
   "source": [
    "t=test\n",
    "t.decode()\n",
    "t=str(t)\n",
    "t=t.split('\\\\n')\n",
    "if t[-3][:8]==\"Deleting\":\n",
    "    print(True)"
   ]
  },
  {
   "cell_type": "code",
   "execution_count": 17,
   "id": "bb7dac51",
   "metadata": {},
   "outputs": [
    {
     "ename": "TypeError",
     "evalue": "a bytes-like object is required, not 'str'",
     "output_type": "error",
     "traceback": [
      "\u001b[0;31m---------------------------------------------------------------------------\u001b[0m",
      "\u001b[0;31mTypeError\u001b[0m                                 Traceback (most recent call last)",
      "Input \u001b[0;32mIn [17]\u001b[0m, in \u001b[0;36m<cell line: 1>\u001b[0;34m()\u001b[0m\n\u001b[0;32m----> 1\u001b[0m \u001b[43mt\u001b[49m\u001b[38;5;241;43m.\u001b[39;49m\u001b[43msplit\u001b[49m\u001b[43m(\u001b[49m\u001b[38;5;124;43m\"\u001b[39;49m\u001b[38;5;130;43;01m\\n\u001b[39;49;00m\u001b[38;5;124;43m\"\u001b[39;49m\u001b[43m)\u001b[49m\n",
      "\u001b[0;31mTypeError\u001b[0m: a bytes-like object is required, not 'str'"
     ]
    }
   ],
   "source": [
    "t.split(\"\\n\")"
   ]
  },
  {
   "cell_type": "code",
   "execution_count": 36,
   "id": "07e68a58",
   "metadata": {},
   "outputs": [],
   "source": [
    "t=t.split('\\\\n')"
   ]
  },
  {
   "cell_type": "code",
   "execution_count": 60,
   "id": "d605bdcb",
   "metadata": {},
   "outputs": [
    {
     "data": {
      "text/plain": [
       "[\"b'Type help for list of available commands\",\n",
       " '>> connect davis',\n",
       " '>> purge raw PT1H',\n",
       " '>> ',\n",
       " \"'\"]"
      ]
     },
     "execution_count": 60,
     "metadata": {},
     "output_type": "execute_result"
    }
   ],
   "source": [
    "t"
   ]
  },
  {
   "cell_type": "code",
   "execution_count": null,
   "id": "a6e5f97f",
   "metadata": {},
   "outputs": [],
   "source": []
  }
 ],
 "metadata": {
  "kernelspec": {
   "display_name": "Python 3 (ipykernel)",
   "language": "python",
   "name": "python3"
  },
  "language_info": {
   "codemirror_mode": {
    "name": "ipython",
    "version": 3
   },
   "file_extension": ".py",
   "mimetype": "text/x-python",
   "name": "python",
   "nbconvert_exporter": "python",
   "pygments_lexer": "ipython3",
   "version": "3.8.10"
  }
 },
 "nbformat": 4,
 "nbformat_minor": 5
}
